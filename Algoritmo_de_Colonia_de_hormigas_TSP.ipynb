{
  "nbformat": 4,
  "nbformat_minor": 0,
  "metadata": {
    "colab": {
      "provenance": [],
      "include_colab_link": true
    },
    "kernelspec": {
      "name": "python3",
      "display_name": "Python 3"
    }
  },
  "cells": [
    {
      "cell_type": "markdown",
      "metadata": {
        "id": "view-in-github",
        "colab_type": "text"
      },
      "source": [
        "<a href=\"https://colab.research.google.com/github/Mariateresa14/TSP11/blob/main/Algoritmo_de_Colonia_de_hormigas_TSP.ipynb\" target=\"_parent\"><img src=\"https://colab.research.google.com/assets/colab-badge.svg\" alt=\"Open In Colab\"/></a>"
      ]
    },
    {
      "cell_type": "markdown",
      "metadata": {
        "id": "8X8TGSdEUAka"
      },
      "source": [
        "# Introduction\n",
        "The ant colony optimization algorithms are a family of heuristic and probabilistic optimization algorithms based on swarm intelligence of simple computational agents. This kind of algorithms is widely used in the resolution of graph-based problem, and one common use for them is the resolution of the TSP. The algorithm simulates the paths taking by several decision agents known as \"ants\" during a number of determined iterations\n",
        "\n",
        "\n",
        "The code presented int his blog was adapted from :\n",
        "\n",
        "Wong, C. (2020) Black Desert Online Worker Optimization. Available at : https://cwong8.github.io/projects/BDO_Optimization/optimization/ Accesed: February 25 2020."
      ]
    },
    {
      "cell_type": "markdown",
      "metadata": {
        "id": "RprjEKgGVtVd"
      },
      "source": [
        "# Data representation\n",
        "The two most common ways to represent graphs are adjacency lists or weight matrix. Because the TSP is represented by a weighted undirected graph, is convenient to represent an instance of the problem using a weight matrix, that represents the distances between each node of the graph. In pythom, a very simple instance of the TSP could be represented by something like this:\n",
        "\n",
        "```\n",
        "distances = np.array([[np.inf, 2, 2, 5, 7],\n",
        "                      [2, np.inf, 4, 8, 2],\n",
        "                      [2, 4, np.inf, 1, 3],\n",
        "                      [5, 8, 1, np.inf, 2],\n",
        "                      [7, 2, 3, 2, np.inf]])\n",
        "```\n",
        "\n"
      ]
    },
    {
      "cell_type": "markdown",
      "metadata": {
        "id": "4NgVtItTRUnB"
      },
      "source": [
        "# Data Import"
      ]
    },
    {
      "cell_type": "code",
      "metadata": {
        "id": "hQgG2nEQReKU",
        "outputId": "908a3717-24ea-4202-88b8-49af52fe9a8a",
        "colab": {
          "base_uri": "https://localhost:8080/",
          "height": 34
        }
      },
      "source": [
        "!git clone https://github.com/juan-carvajal/TSP_Data.git"
      ],
      "execution_count": null,
      "outputs": [
        {
          "output_type": "stream",
          "text": [
            "fatal: destination path 'TSP_Data' already exists and is not an empty directory.\n"
          ],
          "name": "stdout"
        }
      ]
    },
    {
      "cell_type": "code",
      "metadata": {
        "id": "siED6S284K3c",
        "outputId": "c4aeabc0-518e-4057-b8aa-d6aa4def865b",
        "colab": {
          "base_uri": "https://localhost:8080/",
          "height": 302
        }
      },
      "source": [
        "import random as rn\n",
        "import numpy as np\n",
        "from numpy.random import choice as np_choice\n",
        "from math import sqrt\n",
        "import matplotlib.pyplot as plt\n",
        "import json\n",
        "\n",
        "\n",
        "class AntColony(object):\n",
        "\n",
        "    def __init__(self, distances, n_ants, n_best, n_iterations, decay, alpha=1, beta=1):\n",
        "        \"\"\"\n",
        "        Args:\n",
        "            distances (2D numpy.array): Square matrix of distances. Diagonal is assumed to be np.inf.\n",
        "            n_ants (int): Number of ants running per iteration\n",
        "            n_best (int): Number of best ants who deposit pheromone\n",
        "            n_iteration (int): Number of iterations\n",
        "            decay (float): Rate it which pheromone decays. The pheromone value is multiplied by decay, so 0.95 will lead to decay, 0.5 to much faster decay.\n",
        "            alpha (int or float): exponenet on pheromone, higher alpha gives pheromone more weight. Default=1\n",
        "            beta (int or float): exponent on distance, higher beta give distance more weight. Default=1\n",
        "        Example:\n",
        "            ant_colony = AntColony(distances, 100, 20, 2000, 0.95, alpha=1, beta=2)          \n",
        "        \"\"\"\n",
        "        self.distances  = distances\n",
        "        self.pheromone = np.ones(self.distances.shape) / len(distances)\n",
        "        self.all_inds = range(len(distances))\n",
        "        self.n_ants = n_ants\n",
        "        self.n_best = n_best\n",
        "        self.n_iterations = n_iterations\n",
        "        self.decay = decay\n",
        "        self.alpha = alpha\n",
        "        self.beta = beta\n",
        "\n",
        "    def run(self):\n",
        "        distance_logs=[]\n",
        "        shortest_path = None\n",
        "        all_time_shortest_path = (\"placeholder\", np.inf)\n",
        "        for i in range(self.n_iterations):\n",
        "            all_paths = self.gen_all_paths()\n",
        "            self.spread_pheronome(all_paths, self.n_best, shortest_path=shortest_path)\n",
        "            shortest_path = min(all_paths, key=lambda x: x[1])\n",
        "            if shortest_path[1] < all_time_shortest_path[1]:\n",
        "                all_time_shortest_path = shortest_path\n",
        "            distance_logs.append(all_time_shortest_path[1])                      \n",
        "        return all_time_shortest_path,distance_logs\n",
        "\n",
        "    def spread_pheronome(self, all_paths, n_best, shortest_path):\n",
        "        sorted_paths = sorted(all_paths, key=lambda x: x[1])\n",
        "        for path, dist in sorted_paths[:n_best]:\n",
        "            for move in path:\n",
        "                self.pheromone[move] += 1.0 / self.distances[move]\n",
        "\n",
        "    def gen_path_dist(self, path):\n",
        "        total_dist = 0\n",
        "        for ele in path:\n",
        "            total_dist += self.distances[ele]\n",
        "        return total_dist\n",
        "\n",
        "    def gen_all_paths(self):\n",
        "        all_paths = []\n",
        "        for i in range(self.n_ants):\n",
        "            path = self.gen_path(0)\n",
        "            all_paths.append((path, self.gen_path_dist(path)))\n",
        "        return all_paths\n",
        "\n",
        "    def gen_path(self, start):\n",
        "        path = []\n",
        "        visited = set()\n",
        "        visited.add(start)\n",
        "        prev = start\n",
        "        for i in range(len(self.distances) - 1):\n",
        "            move = self.pick_move(self.pheromone[prev], self.distances[prev], visited)\n",
        "            path.append((prev, move))\n",
        "            prev = move\n",
        "            visited.add(move)\n",
        "        path.append((prev, start)) # going back to where we started    \n",
        "        return path\n",
        "\n",
        "    def pick_move(self, pheromone, dist, visited):\n",
        "        pheromone = np.copy(pheromone)\n",
        "        pheromone[list(visited)] = 0\n",
        "\n",
        "        row = (pheromone ** self.alpha) * (( 1.0 / dist) ** self.beta)\n",
        "\n",
        "        norm_row = row / row.sum()\n",
        "        move = np_choice(self.all_inds, 1, p=norm_row)[0]\n",
        "        return move\n",
        "\n",
        "\n",
        "#Static TSP Instance\n",
        "# distances = np.array([[np.inf, 2, 2, 5, 7],\n",
        "#                       [2, np.inf, 4, 8, 2],\n",
        "#                       [2, 4, np.inf, 1, 3],\n",
        "#                       [5, 8, 1, np.inf, 2],\n",
        "#                       [7, 2, 3, 2, np.inf]])\n",
        "\n",
        "\n",
        "#Dinamic TSP Instance, changing the value of n_nodes will change the\n",
        "#Instance size\n",
        "# n_nodes=100\n",
        "# dist=lambda x,y: sqrt(((x[0]-y[0])**2)+((x[1]-y[1])**2))\n",
        "# l=[(rn.random()*1000,rn.random()*1000) for i in range(n_nodes)]\n",
        "# distances=np.array([[np.inf if i==j else dist(l[i],l[j]) for i in range(len(l))] for j in range(len(l))])\n",
        "\n",
        "\n",
        "#Presolved TSP Instance\n",
        "with open(\"TSP_Data/gr120.json\", \"r\") as tsp_data:\n",
        "    tsp = json.load(tsp_data)\n",
        "\n",
        "distances = tsp[\"DistanceMatrix\"]\n",
        "tour_size=tsp[\"TourSize\"]\n",
        "for i in range(tour_size):\n",
        "  distances[i][i]=np.inf\n",
        "distances=np.array(distances)\n",
        "\n",
        "\n",
        "\n",
        "\n",
        "ant_colony = AntColony(distances, 50, 50, 150, 0.7, alpha=1, beta=1)\n",
        "shortest_path,log = ant_colony.run()\n",
        "print (\"shortest_path: {}\".format(shortest_path))\n",
        "plt.plot(log)\n",
        "plt.show()"
      ],
      "execution_count": 9,
      "outputs": [
        {
          "output_type": "stream",
          "name": "stdout",
          "text": [
            "shortest_path: ([(0, 75), (75, 28), (28, 29), (29, 31), (31, 91), (91, 27), (27, 119), (119, 60), (60, 15), (15, 59), (59, 23), (23, 110), (110, 95), (95, 89), (89, 53), (53, 7), (7, 115), (115, 69), (69, 33), (33, 25), (25, 70), (70, 46), (46, 54), (54, 88), (88, 5), (5, 83), (83, 103), (103, 105), (105, 61), (61, 36), (36, 66), (66, 98), (98, 34), (34, 9), (9, 35), (35, 111), (111, 109), (109, 47), (47, 101), (101, 100), (100, 113), (113, 72), (72, 56), (56, 82), (82, 38), (38, 76), (76, 94), (94, 96), (96, 11), (11, 87), (87, 63), (63, 108), (108, 20), (20, 92), (92, 81), (81, 2), (2, 79), (79, 26), (26, 4), (4, 62), (62, 52), (52, 1), (1, 114), (114, 10), (10, 50), (50, 22), (22, 8), (8, 102), (102, 118), (118, 3), (3, 37), (37, 6), (6, 55), (55, 40), (40, 97), (97, 41), (41, 16), (16, 117), (117, 48), (48, 49), (49, 43), (43, 74), (74, 13), (13, 86), (86, 73), (73, 71), (71, 39), (39, 104), (104, 44), (44, 77), (77, 93), (93, 80), (80, 65), (65, 30), (30, 116), (116, 84), (84, 17), (17, 18), (18, 24), (24, 107), (107, 99), (99, 57), (57, 78), (78, 67), (67, 90), (90, 112), (112, 106), (106, 68), (68, 64), (64, 42), (42, 51), (51, 32), (32, 12), (12, 45), (45, 19), (19, 21), (21, 85), (85, 58), (58, 14), (14, 0)], 8273.0)\n"
          ]
        },
        {
          "output_type": "display_data",
          "data": {
            "text/plain": [
              "<Figure size 432x288 with 1 Axes>"
            ],
            "image/png": "[encoded data removed]"
          },
          "metadata": {
            "needs_background": "light"
          }
        }
      ]
    }
  ]
}